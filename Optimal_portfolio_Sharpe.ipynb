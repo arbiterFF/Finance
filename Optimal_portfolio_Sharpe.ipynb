{
  "nbformat": 4,
  "nbformat_minor": 0,
  "metadata": {
    "colab": {
      "provenance": [],
      "authorship_tag": "ABX9TyPCCxMzv2pyjtQhSG1O5gwW",
      "include_colab_link": true
    },
    "kernelspec": {
      "name": "python3",
      "display_name": "Python 3"
    },
    "language_info": {
      "name": "python"
    }
  },
  "cells": [
    {
      "cell_type": "markdown",
      "metadata": {
        "id": "view-in-github",
        "colab_type": "text"
      },
      "source": [
        "<a href=\"https://colab.research.google.com/github/arbiterFF/Finance/blob/main/Optimal_portfolio_Sharpe.ipynb\" target=\"_parent\"><img src=\"https://colab.research.google.com/assets/colab-badge.svg\" alt=\"Open In Colab\"/></a>"
      ]
    },
    {
      "cell_type": "code",
      "execution_count": 1,
      "metadata": {
        "colab": {
          "base_uri": "https://localhost:8080/"
        },
        "id": "yd2lOh4mT2Tm",
        "outputId": "3828f93f-2e39-4d58-8432-619e56897c82"
      },
      "outputs": [
        {
          "output_type": "stream",
          "name": "stdout",
          "text": [
            "Looking in indexes: https://pypi.org/simple, https://us-python.pkg.dev/colab-wheels/public/simple/\n",
            "Requirement already satisfied: numpy in /usr/local/lib/python3.9/dist-packages (1.22.4)\n",
            "Requirement already satisfied: pandas in /usr/local/lib/python3.9/dist-packages (1.4.4)\n",
            "Requirement already satisfied: pandas-datareader in /usr/local/lib/python3.9/dist-packages (0.10.0)\n",
            "Requirement already satisfied: scipy in /usr/local/lib/python3.9/dist-packages (1.10.1)\n",
            "Requirement already satisfied: pytz>=2020.1 in /usr/local/lib/python3.9/dist-packages (from pandas) (2022.7.1)\n",
            "Requirement already satisfied: python-dateutil>=2.8.1 in /usr/local/lib/python3.9/dist-packages (from pandas) (2.8.2)\n",
            "Requirement already satisfied: lxml in /usr/local/lib/python3.9/dist-packages (from pandas-datareader) (4.9.2)\n",
            "Requirement already satisfied: requests>=2.19.0 in /usr/local/lib/python3.9/dist-packages (from pandas-datareader) (2.27.1)\n",
            "Requirement already satisfied: six>=1.5 in /usr/local/lib/python3.9/dist-packages (from python-dateutil>=2.8.1->pandas) (1.16.0)\n",
            "Requirement already satisfied: urllib3<1.27,>=1.21.1 in /usr/local/lib/python3.9/dist-packages (from requests>=2.19.0->pandas-datareader) (1.26.15)\n",
            "Requirement already satisfied: idna<4,>=2.5 in /usr/local/lib/python3.9/dist-packages (from requests>=2.19.0->pandas-datareader) (3.4)\n",
            "Requirement already satisfied: certifi>=2017.4.17 in /usr/local/lib/python3.9/dist-packages (from requests>=2.19.0->pandas-datareader) (2022.12.7)\n",
            "Requirement already satisfied: charset-normalizer~=2.0.0 in /usr/local/lib/python3.9/dist-packages (from requests>=2.19.0->pandas-datareader) (2.0.12)\n"
          ]
        }
      ],
      "source": [
        "%pip install numpy pandas pandas-datareader scipy"
      ]
    },
    {
      "cell_type": "code",
      "source": [
        "%pip install yfinance"
      ],
      "metadata": {
        "colab": {
          "base_uri": "https://localhost:8080/"
        },
        "id": "2YA6S-0NVhTX",
        "outputId": "dd7e8686-2f75-4f73-9ddc-b0b1e5f2c373"
      },
      "execution_count": 3,
      "outputs": [
        {
          "output_type": "stream",
          "name": "stdout",
          "text": [
            "Looking in indexes: https://pypi.org/simple, https://us-python.pkg.dev/colab-wheels/public/simple/\n",
            "Requirement already satisfied: yfinance in /usr/local/lib/python3.9/dist-packages (0.2.14)\n",
            "Requirement already satisfied: numpy>=1.16.5 in /usr/local/lib/python3.9/dist-packages (from yfinance) (1.22.4)\n",
            "Requirement already satisfied: lxml>=4.9.1 in /usr/local/lib/python3.9/dist-packages (from yfinance) (4.9.2)\n",
            "Requirement already satisfied: appdirs>=1.4.4 in /usr/local/lib/python3.9/dist-packages (from yfinance) (1.4.4)\n",
            "Requirement already satisfied: pytz>=2022.5 in /usr/local/lib/python3.9/dist-packages (from yfinance) (2022.7.1)\n",
            "Requirement already satisfied: requests>=2.26 in /usr/local/lib/python3.9/dist-packages (from yfinance) (2.27.1)\n",
            "Requirement already satisfied: pandas>=1.3.0 in /usr/local/lib/python3.9/dist-packages (from yfinance) (1.4.4)\n",
            "Requirement already satisfied: frozendict>=2.3.4 in /usr/local/lib/python3.9/dist-packages (from yfinance) (2.3.6)\n",
            "Requirement already satisfied: beautifulsoup4>=4.11.1 in /usr/local/lib/python3.9/dist-packages (from yfinance) (4.11.2)\n",
            "Requirement already satisfied: html5lib>=1.1 in /usr/local/lib/python3.9/dist-packages (from yfinance) (1.1)\n",
            "Requirement already satisfied: multitasking>=0.0.7 in /usr/local/lib/python3.9/dist-packages (from yfinance) (0.0.11)\n",
            "Requirement already satisfied: cryptography>=3.3.2 in /usr/local/lib/python3.9/dist-packages (from yfinance) (40.0.1)\n",
            "Requirement already satisfied: soupsieve>1.2 in /usr/local/lib/python3.9/dist-packages (from beautifulsoup4>=4.11.1->yfinance) (2.4)\n",
            "Requirement already satisfied: cffi>=1.12 in /usr/local/lib/python3.9/dist-packages (from cryptography>=3.3.2->yfinance) (1.15.1)\n",
            "Requirement already satisfied: webencodings in /usr/local/lib/python3.9/dist-packages (from html5lib>=1.1->yfinance) (0.5.1)\n",
            "Requirement already satisfied: six>=1.9 in /usr/local/lib/python3.9/dist-packages (from html5lib>=1.1->yfinance) (1.16.0)\n",
            "Requirement already satisfied: python-dateutil>=2.8.1 in /usr/local/lib/python3.9/dist-packages (from pandas>=1.3.0->yfinance) (2.8.2)\n",
            "Requirement already satisfied: urllib3<1.27,>=1.21.1 in /usr/local/lib/python3.9/dist-packages (from requests>=2.26->yfinance) (1.26.15)\n",
            "Requirement already satisfied: idna<4,>=2.5 in /usr/local/lib/python3.9/dist-packages (from requests>=2.26->yfinance) (3.4)\n",
            "Requirement already satisfied: charset-normalizer~=2.0.0 in /usr/local/lib/python3.9/dist-packages (from requests>=2.26->yfinance) (2.0.12)\n",
            "Requirement already satisfied: certifi>=2017.4.17 in /usr/local/lib/python3.9/dist-packages (from requests>=2.26->yfinance) (2022.12.7)\n",
            "Requirement already satisfied: pycparser in /usr/local/lib/python3.9/dist-packages (from cffi>=1.12->cryptography>=3.3.2->yfinance) (2.21)\n"
          ]
        }
      ]
    },
    {
      "cell_type": "code",
      "source": [
        "import numpy as np\n",
        "import pandas as pd\n",
        "import yfinance as yf\n",
        "import datetime\n",
        "from scipy.optimize import minimize\n",
        "\n",
        "# Define the stocks in your portfolio\n",
        "stocks = ['BHP.AX', 'BXB.AX', 'CSL.AX', 'MQG.AX', 'NAB.AX', 'RIO.AX', 'RMD.AX', 'SHL.AX', 'TCL.AX', 'WDS.AX', 'WTC.AX', 'TNE.AX', 'TLX.AX', 'APA.AX', 'TLS.AX']\n",
        "\n",
        "# Set the time period\n",
        "end_date = datetime.datetime.now()\n",
        "start_date = end_date - datetime.timedelta(days=180)\n",
        "\n",
        "# Fetch the stock price data\n",
        "price_data = yf.download(stocks, start=start_date, end=end_date)['Adj Close']\n",
        "price_data = price_data.reindex(sorted(price_data.columns), axis=1)\n",
        "\n",
        "# Calculate daily returns\n",
        "returns = price_data.pct_change().dropna()\n",
        "\n",
        "def calculate_annualized_return(weights, mean_returns, cov_matrix):\n",
        "    return np.sum(mean_returns * weights) * 252\n",
        "\n",
        "def calculate_annualized_volatility(weights, cov_matrix):\n",
        "    return np.sqrt(np.dot(weights.T, np.dot(cov_matrix, weights)) * 252)\n",
        "\n",
        "def neg_sharpe_ratio(weights, mean_returns, cov_matrix, risk_free_rate):\n",
        "    portfolio_return = calculate_annualized_return(weights, mean_returns, cov_matrix)\n",
        "    portfolio_volatility = calculate_annualized_volatility(weights, cov_matrix)\n",
        "    return -(portfolio_return - risk_free_rate) / portfolio_volatility\n",
        "\n",
        "def optimize_portfolio(weights, mean_returns, cov_matrix, risk_free_rate, min_weight):\n",
        "    constraints = (\n",
        "        {'type': 'eq', 'fun': lambda x: np.sum(x) - 1}\n",
        "    )\n",
        "    bounds = tuple((min_weight, 1) for _ in range(len(stocks)))\n",
        "    bounds = tuple(bounds)\n",
        "    result = minimize(neg_sharpe_ratio, weights, args=(mean_returns, cov_matrix, risk_free_rate), bounds=bounds, constraints=constraints)\n",
        "    return result\n",
        "\n",
        "def portfolio_performance(weights, mean_returns, cov_matrix, risk_free_rate):\n",
        "    portfolio_return = np.sum(mean_returns * weights) * 252\n",
        "    portfolio_std_dev = np.sqrt(np.dot(weights.T, np.dot(cov_matrix, weights)) * 252)\n",
        "    sharpe_ratio = (portfolio_return - risk_free_rate) / portfolio_std_dev\n",
        "    return portfolio_return, portfolio_std_dev, sharpe_ratio\n",
        "\n",
        "# Calculate mean returns and covariance matrix\n",
        "mean_returns = returns.mean()\n",
        "cov_matrix = returns.cov()\n",
        "\n",
        "# Print individual stock expected return and standard deviation\n",
        "print(\"Individual stock performance:\")\n",
        "for stock in stocks:\n",
        "    stock_mean_return = mean_returns[stock] * 252\n",
        "    stock_std_dev = np.sqrt(cov_matrix.loc[stock, stock] *252)\n",
        "    print(f\"{stock}: Expected annual return: {stock_mean_return * 100:.2f}%, Annualized volatility: {stock_std_dev * 100:.2f}%\")\n",
        "\n",
        "# Set the initial weights and risk-free rate\n",
        "initial_weights = np.array([1 / len(stocks)] * len(stocks))\n",
        "\n",
        "risk_free_rate = 0.04\n",
        "min_weight=0.2/len(stocks)\n",
        "print(f\"Minimum weight for each stock: {min_weight:.4f}\")\n",
        "\n",
        "# Optimize the portfolio\n",
        "result = optimize_portfolio(initial_weights, mean_returns, cov_matrix, risk_free_rate, min_weight)\n",
        "\n",
        "# Display the optimized portfolio weights\n",
        "optimized_weights = result.x\n",
        "print(\"Optimized portfolio weights:\")\n",
        "for stock, weight in zip(stocks, optimized_weights):\n",
        "    print(f\"{stock}: {weight:.4f}\")\n",
        "\n",
        "# Calculate and display portfolio performance\n",
        "portfolio_return, portfolio_std_dev, sharpe_ratio = portfolio_performance(optimized_weights, mean_returns, cov_matrix, risk_free_rate)\n",
        "\n",
        "print (\"E(r) = \", portfolio_return*100, \"%\")\n",
        "print (\"sigma = \", portfolio_std_dev*100, \"%\")\n",
        "print (\"Sharpe = \", sharpe_ratio)"
      ],
      "metadata": {
        "colab": {
          "base_uri": "https://localhost:8080/"
        },
        "id": "g4ic86KQVtnE",
        "outputId": "98253d54-a763-4b49-d3cd-700ff61dba4c"
      },
      "execution_count": 52,
      "outputs": [
        {
          "output_type": "stream",
          "name": "stdout",
          "text": [
            "[*********************100%***********************]  14 of 14 completed\n",
            "Individual stock performance:\n",
            "BHP.AX: Expected annual return: 41.19%, Annualized volatility: 27.40%\n",
            "BXB.AX: Expected annual return: 33.16%, Annualized volatility: 18.23%\n",
            "CSL.AX: Expected annual return: 0.94%, Annualized volatility: 16.70%\n",
            "MQG.AX: Expected annual return: 23.21%, Annualized volatility: 25.05%\n",
            "NAB.AX: Expected annual return: -12.92%, Annualized volatility: 17.61%\n",
            "RIO.AX: Expected annual return: 50.98%, Annualized volatility: 26.43%\n",
            "RMD.AX: Expected annual return: -15.77%, Annualized volatility: 24.81%\n",
            "SHL.AX: Expected annual return: 24.94%, Annualized volatility: 29.20%\n",
            "TCL.AX: Expected annual return: 25.69%, Annualized volatility: 15.16%\n",
            "WDS.AX: Expected annual return: 13.79%, Annualized volatility: 31.59%\n",
            "WTC.AX: Expected annual return: 30.85%, Annualized volatility: 39.04%\n",
            "TNE.AX: Expected annual return: 53.70%, Annualized volatility: 26.59%\n",
            "TLX.AX: Expected annual return: 56.64%, Annualized volatility: 50.32%\n",
            "APA.AX: Expected annual return: 12.75%, Annualized volatility: 19.84%\n",
            "Minimum weight for each stock: 0.0143\n",
            "Optimized portfolio weights:\n",
            "BHP.AX: 0.0143\n",
            "BXB.AX: 0.0143\n",
            "CSL.AX: 0.2831\n",
            "MQG.AX: 0.0143\n",
            "NAB.AX: 0.0143\n",
            "RIO.AX: 0.0143\n",
            "RMD.AX: 0.2662\n",
            "SHL.AX: 0.0143\n",
            "TCL.AX: 0.0143\n",
            "WDS.AX: 0.1577\n",
            "WTC.AX: 0.0354\n",
            "TNE.AX: 0.1290\n",
            "TLX.AX: 0.0143\n",
            "APA.AX: 0.0143\n",
            "E(r) =  37.64344784077908 %\n",
            "sigma =  12.716028693111017 %\n",
            "Sharpe =  2.645751173792618\n"
          ]
        }
      ]
    }
  ]
}